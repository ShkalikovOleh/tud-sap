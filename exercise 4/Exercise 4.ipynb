{
 "cells": [
  {
   "cell_type": "code",
   "execution_count": 1,
   "metadata": {},
   "outputs": [],
   "source": [
    "import numpy as np\n",
    "from scipy import stats\n",
    "from matplotlib import pyplot as plt"
   ]
  },
  {
   "cell_type": "code",
   "execution_count": 2,
   "metadata": {},
   "outputs": [],
   "source": [
    "def mc(f, min, max, N, samp_dist):\n",
    "\n",
    "    # determine number of variables\n",
    "    if not isinstance(min, (int, float)):\n",
    "        nvar = len(min)\n",
    "    else:\n",
    "        min = [min]\n",
    "        max = [max]\n",
    "        nvar = 1    \n",
    "\n",
    "    # sampling\n",
    "    if isinstance(samp_dist, (list, tuple)):\n",
    "        rvs = np.empty((nvar, N))\n",
    "        for i, dist in enumerate(samp_dist):\n",
    "            rvs[i] = dist.rvs(size=N)\n",
    "        \n",
    "        def pdf(x):\n",
    "            result = 1\n",
    "            for i, dist in enumerate(samp_dist):\n",
    "                result *= dist.pdf(x[i])\n",
    "            return result\n",
    "\n",
    "    else:\n",
    "        rvs = samp_dist.rvs(size=(nvar, N))\n",
    "        pdf = samp_dist.pdf\n",
    "\n",
    "    # indicator\n",
    "    mask = np.empty_like(rvs)\n",
    "    for i in range(nvar):        \n",
    "        mask[i] = (min[i] <= rvs[i]) & (rvs[i] <= max[i])    \n",
    "    mask = np.logical_and.reduce(mask, 0)\n",
    "    rvs = rvs[:, mask]\n",
    "    \n",
    "    # result calcuation    \n",
    "    y = f(rvs) / pdf(rvs)         \n",
    "    return np.mean(y)"
   ]
  },
  {
   "cell_type": "code",
   "execution_count": 3,
   "metadata": {},
   "outputs": [],
   "source": [
    "def compute_mean_and_var(est, N = 100):\n",
    "    results = []\n",
    "    for i in range(N):\n",
    "        results.append(est())\n",
    "    return np.mean(results), np.var(results)"
   ]
  },
  {
   "cell_type": "code",
   "execution_count": 4,
   "metadata": {},
   "outputs": [
    {
     "data": {
      "text/plain": [
       "1.7489441160856796"
      ]
     },
     "execution_count": 4,
     "metadata": {},
     "output_type": "execute_result"
    }
   ],
   "source": [
    "f2 = lambda x: np.exp(x)\n",
    "mc(f2, 0, 1, 20, stats.uniform)"
   ]
  },
  {
   "cell_type": "code",
   "execution_count": 5,
   "metadata": {},
   "outputs": [
    {
     "name": "stdout",
     "output_type": "stream",
     "text": [
      "Mean: 1.7149891311432395\n",
      "Var: 0.01241700753091071\n"
     ]
    }
   ],
   "source": [
    "mean2, var2 = compute_mean_and_var(lambda: mc(f2, 0, 1, 20, stats.uniform))\n",
    "\n",
    "print(f\"Mean: {mean2}\")\n",
    "print(f\"Var: {var2}\")"
   ]
  },
  {
   "cell_type": "code",
   "execution_count": 6,
   "metadata": {},
   "outputs": [],
   "source": [
    "f3 = lambda x: -2*x[0]**2 + 3*x[1]\n",
    "mins = (-1, 1)\n",
    "maxs = (2, 3)\n",
    "sample_dists = (stats.uniform(-1, 3), stats.uniform(1, 2))\n",
    "\n",
    "Ns = [10, 50, 100, 500, 1000]\n",
    "means = []\n",
    "vars = []\n",
    "for n in Ns:\n",
    "    mean, var = compute_mean_and_var(lambda: mc(f3, mins, maxs, n, sample_dists))    \n",
    "    means.append(mean)\n",
    "    vars.append(var)"
   ]
  },
  {
   "cell_type": "code",
   "execution_count": 7,
   "metadata": {},
   "outputs": [
    {
     "data": {
      "text/plain": [
       "(23.5, 26.0)"
      ]
     },
     "execution_count": 7,
     "metadata": {},
     "output_type": "execute_result"
    },
    {
     "data": {
      "image/png": "[encoded data removed]",
      "text/plain": [
       "<Figure size 640x480 with 1 Axes>"
      ]
     },
     "metadata": {},
     "output_type": "display_data"
    }
   ],
   "source": [
    "plt.stem(Ns, means)\n",
    "plt.ylim(23.5, 26)"
   ]
  },
  {
   "cell_type": "code",
   "execution_count": 8,
   "metadata": {},
   "outputs": [
    {
     "data": {
      "image/png": "[encoded data removed]",
      "text/plain": [
       "<Figure size 640x480 with 1 Axes>"
      ]
     },
     "metadata": {},
     "output_type": "display_data"
    }
   ],
   "source": [
    "plt.stem(Ns, vars)\n",
    "plt.yscale('log')"
   ]
  },
  {
   "cell_type": "code",
   "execution_count": 9,
   "metadata": {},
   "outputs": [
    {
     "name": "stdout",
     "output_type": "stream",
     "text": [
      "Mean uniform: 5.064551827423592\n",
      "Var uniform: 0.5334704836890747\n"
     ]
    }
   ],
   "source": [
    "f4 = lambda x: x * np.exp(-2*np.abs(x - 5))\n",
    "mean4_uni, var4_uni = compute_mean_and_var(lambda :mc(f4, 0, 10, 200, stats.uniform(0, 10)))\n",
    "\n",
    "print(f\"Mean uniform: {mean4_uni}\")\n",
    "print(f\"Var uniform: {var4_uni}\")"
   ]
  },
  {
   "cell_type": "code",
   "execution_count": 10,
   "metadata": {},
   "outputs": [
    {
     "name": "stdout",
     "output_type": "stream",
     "text": [
      "Mean norm: 4.995132356989368\n",
      "Var norm: 0.053957518053036176\n"
     ]
    }
   ],
   "source": [
    "mean4_norm, var4_norm = compute_mean_and_var(lambda :mc(f4, 0, 10, 200, stats.norm(5, 1)))\n",
    "\n",
    "print(f\"Mean norm: {mean4_norm}\")\n",
    "print(f\"Var norm: {var4_norm}\")"
   ]
  },
  {
   "cell_type": "code",
   "execution_count": null,
   "metadata": {},
   "outputs": [],
   "source": []
  }
 ],
 "metadata": {
  "kernelspec": {
   "display_name": "Python 3.10.6 ('.venv': venv)",
   "language": "python",
   "name": "python3"
  },
  "language_info": {
   "codemirror_mode": {
    "name": "ipython",
    "version": 3
   },
   "file_extension": ".py",
   "mimetype": "text/x-python",
   "name": "python",
   "nbconvert_exporter": "python",
   "pygments_lexer": "ipython3",
   "version": "3.10.6"
  },
  "orig_nbformat": 4,
  "vscode": {
   "interpreter": {
    "hash": "15c8333a4b1aa548f0bb0b0d7156dc07d90e0ff04d6cbf841b2dbbb589a2bd21"
   }
  }
 },
 "nbformat": 4,
 "nbformat_minor": 2
}
